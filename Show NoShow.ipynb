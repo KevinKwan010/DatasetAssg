{
 "cells": [
  {
   "cell_type": "code",
   "execution_count": 1,
   "metadata": {},
   "outputs": [],
   "source": [
    "# Section must be included at the beginning of each new notebook.\n",
    "import findspark\n",
    "findspark.init('/home/ubuntu/spark-2.1.1-bin-hadoop2.7')\n",
    "import pyspark\n",
    "import pandas as pd\n",
    "from pyspark.sql import SparkSession\n",
    "spark = SparkSession.builder.appName('basics').getOrCreate()\n",
    "from pyspark.ml.regression import LinearRegression\n",
    "from pyspark.ml.feature import StringIndexer"
   ]
  },
  {
   "cell_type": "code",
   "execution_count": 2,
   "metadata": {},
   "outputs": [],
   "source": [
    "# Let's read in the data. \n",
    "df = spark.read.csv('Datasets/KaggleV2-May-2016.csv',header=True,inferSchema=True)"
   ]
  },
  {
   "cell_type": "code",
   "execution_count": null,
   "metadata": {},
   "outputs": [],
   "source": [
    "## Basic Data Exploration\n",
    "#Now that we've started the session and imported the data, let's explore the data."
   ]
  },
  {
   "cell_type": "code",
   "execution_count": 3,
   "metadata": {},
   "outputs": [
    {
     "name": "stdout",
     "output_type": "stream",
     "text": [
      "+-------------------+-------------+------+--------------------+--------------------+---+-----------------+-----------+------------+--------+----------+-------+------------+-------+\n",
      "|          PatientId|AppointmentID|Gender|        ScheduledDay|      AppointmentDay|Age|    Neighbourhood|Scholarship|Hipertension|Diabetes|Alcoholism|Handcap|SMS_received|No-show|\n",
      "+-------------------+-------------+------+--------------------+--------------------+---+-----------------+-----------+------------+--------+----------+-------+------------+-------+\n",
      "| 2.9872499824296E13|      5642903|     F|2016-04-29 18:38:...|2016-04-29 00:00:...| 62|  JARDIM DA PENHA|          0|           1|       0|         0|      0|           0|     No|\n",
      "|5.58997776694438E14|      5642503|     M|2016-04-29 16:08:...|2016-04-29 00:00:...| 56|  JARDIM DA PENHA|          0|           0|       0|         0|      0|           0|     No|\n",
      "|  4.262962299951E12|      5642549|     F|2016-04-29 16:19:...|2016-04-29 00:00:...| 62|    MATA DA PRAIA|          0|           0|       0|         0|      0|           0|     No|\n",
      "|   8.67951213174E11|      5642828|     F|2016-04-29 17:29:...|2016-04-29 00:00:...|  8|PONTAL DE CAMBURI|          0|           0|       0|         0|      0|           0|     No|\n",
      "|  8.841186448183E12|      5642494|     F|2016-04-29 16:07:...|2016-04-29 00:00:...| 56|  JARDIM DA PENHA|          0|           1|       1|         0|      0|           0|     No|\n",
      "+-------------------+-------------+------+--------------------+--------------------+---+-----------------+-----------+------------+--------+----------+-------+------------+-------+\n",
      "only showing top 5 rows\n",
      "\n"
     ]
    }
   ],
   "source": [
    "# The show method allows you visualise DataFrames in a tabular format. \n",
    "df.show(5)"
   ]
  },
  {
   "cell_type": "code",
   "execution_count": 4,
   "metadata": {
    "scrolled": true
   },
   "outputs": [
    {
     "name": "stdout",
     "output_type": "stream",
     "text": [
      "+-------+--------------------+-----------------+------+------------------+-------------+-------------------+-------------------+-------------------+--------------------+--------------------+-------------------+-------+\n",
      "|summary|           PatientId|    AppointmentID|Gender|               Age|Neighbourhood|        Scholarship|       Hipertension|           Diabetes|          Alcoholism|             Handcap|       SMS_received|No-show|\n",
      "+-------+--------------------+-----------------+------+------------------+-------------+-------------------+-------------------+-------------------+--------------------+--------------------+-------------------+-------+\n",
      "|  count|              110527|           110527|110527|            110527|       110527|             110527|             110527|             110527|              110527|              110527|             110527| 110527|\n",
      "|   mean|1.474962657103923...|5675305.123426855|  null| 37.08887421173107|         null|0.09826558216544373| 0.1972459218109602|0.07186479321794674|0.030399811810688793|0.022247957512643968|0.32102563174608917|   null|\n",
      "| stddev|2.560949202917382...|  71295.751539677|  null|23.110204963682676|         null| 0.2976747541093073|0.39792134994708606|0.25826507350746536|  0.1716855554142438|  0.1615427258142786|0.46687273170186905|   null|\n",
      "|    min|         39217.84439|          5030230|     F|                -1|    AEROPORTO|                  0|                  0|                  0|                   0|                   0|                  0|     No|\n",
      "|    max| 9.99981631772427E14|          5790484|     M|               115|   VILA RUBIM|                  1|                  1|                  1|                   1|                   4|                  1|    Yes|\n",
      "+-------+--------------------+-----------------+------+------------------+-------------+-------------------+-------------------+-------------------+--------------------+--------------------+-------------------+-------+\n",
      "\n",
      "root\n",
      " |-- PatientId: double (nullable = true)\n",
      " |-- AppointmentID: integer (nullable = true)\n",
      " |-- Gender: string (nullable = true)\n",
      " |-- ScheduledDay: timestamp (nullable = true)\n",
      " |-- AppointmentDay: timestamp (nullable = true)\n",
      " |-- Age: integer (nullable = true)\n",
      " |-- Neighbourhood: string (nullable = true)\n",
      " |-- Scholarship: integer (nullable = true)\n",
      " |-- Hipertension: integer (nullable = true)\n",
      " |-- Diabetes: integer (nullable = true)\n",
      " |-- Alcoholism: integer (nullable = true)\n",
      " |-- Handcap: integer (nullable = true)\n",
      " |-- SMS_received: integer (nullable = true)\n",
      " |-- No-show: string (nullable = true)\n",
      "\n",
      "[Row(PatientId=29872499824296.0, AppointmentID=5642903, Gender='F', ScheduledDay=datetime.datetime(2016, 4, 29, 18, 38, 8), AppointmentDay=datetime.datetime(2016, 4, 29, 0, 0), Age=62, Neighbourhood='JARDIM DA PENHA', Scholarship=0, Hipertension=1, Diabetes=0, Alcoholism=0, Handcap=0, SMS_received=0, No-show='No')]\n"
     ]
    }
   ],
   "source": [
    "# Some general statistics on our data. \n",
    "df.describe().show()\n",
    "\n",
    "# Print schema allows us to visualise the data structure at a high level. \n",
    "df.printSchema()\n",
    "\n",
    "# Use head to print a specific amount of rows\n",
    "print(df.head(1))"
   ]
  },
  {
   "cell_type": "code",
   "execution_count": 5,
   "metadata": {
    "scrolled": true
   },
   "outputs": [
    {
     "name": "stdout",
     "output_type": "stream",
     "text": [
      "+-------+--------------------+-----------------+------+------------------+-------------+-------------------+-------------------+-------------------+--------------------+--------------------+-------------------+-------+\n",
      "|summary|           PatientId|    AppointmentID|Gender|               Age|Neighbourhood|        Scholarship|       Hipertension|           Diabetes|          Alcoholism|             Handcap|       SMS_received|No-show|\n",
      "+-------+--------------------+-----------------+------+------------------+-------------+-------------------+-------------------+-------------------+--------------------+--------------------+-------------------+-------+\n",
      "|  count|              110527|           110527|110527|            110527|       110527|             110527|             110527|             110527|              110527|              110527|             110527| 110527|\n",
      "|   mean|1.474962657103923...|5675305.123426855|  null| 37.08887421173107|         null|0.09826558216544373| 0.1972459218109602|0.07186479321794674|0.030399811810688793|0.022247957512643968|0.32102563174608917|   null|\n",
      "| stddev|2.560949202917382...|  71295.751539677|  null|23.110204963682676|         null| 0.2976747541093073|0.39792134994708606|0.25826507350746536|  0.1716855554142438|  0.1615427258142786|0.46687273170186905|   null|\n",
      "|    min|         39217.84439|          5030230|     F|                -1|    AEROPORTO|                  0|                  0|                  0|                   0|                   0|                  0|     No|\n",
      "|    max| 9.99981631772427E14|          5790484|     M|               115|   VILA RUBIM|                  1|                  1|                  1|                   1|                   4|                  1|    Yes|\n",
      "+-------+--------------------+-----------------+------+------------------+-------------+-------------------+-------------------+-------------------+--------------------+--------------------+-------------------+-------+\n",
      "\n"
     ]
    }
   ],
   "source": [
    "# We can use the describe method get some general statistics on our data too. \n",
    "df.describe().show()"
   ]
  },
  {
   "cell_type": "code",
   "execution_count": 6,
   "metadata": {},
   "outputs": [
    {
     "name": "stdout",
     "output_type": "stream",
     "text": [
      "+-------+------------------+-------------------+-------------------+-------------------+--------------------+--------------------+-------------------+\n",
      "|summary|               Age|        Scholarship|       Hipertension|           Diabetes|          Alcoholism|             Handcap|       SMS_received|\n",
      "+-------+------------------+-------------------+-------------------+-------------------+--------------------+--------------------+-------------------+\n",
      "|  count|            110527|             110527|             110527|             110527|              110527|              110527|             110527|\n",
      "|   mean| 37.08887421173107|0.09826558216544373| 0.1972459218109602|0.07186479321794674|0.030399811810688793|0.022247957512643968|0.32102563174608917|\n",
      "| stddev|23.110204963682676| 0.2976747541093073|0.39792134994708606|0.25826507350746536|  0.1716855554142438|  0.1615427258142786|0.46687273170186905|\n",
      "|    min|                -1|                  0|                  0|                  0|                   0|                   0|                  0|\n",
      "|    max|               115|                  1|                  1|                  1|                   1|                   4|                  1|\n",
      "+-------+------------------+-------------------+-------------------+-------------------+--------------------+--------------------+-------------------+\n",
      "\n"
     ]
    }
   ],
   "source": [
    "df.select('Age','Scholarship','Hipertension','Diabetes','Alcoholism','Handcap','SMS_received').describe().show()"
   ]
  },
  {
   "cell_type": "code",
   "execution_count": 7,
   "metadata": {},
   "outputs": [
    {
     "name": "stdout",
     "output_type": "stream",
     "text": [
      "Total data points: 110527\n"
     ]
    }
   ],
   "source": [
    "# Let's see how many rows of data we originally have.\n",
    "print(\"Total data points:\", df.count())"
   ]
  },
  {
   "cell_type": "code",
   "execution_count": 34,
   "metadata": {},
   "outputs": [
    {
     "data": {
      "text/html": [
       "<div>\n",
       "<style scoped>\n",
       "    .dataframe tbody tr th:only-of-type {\n",
       "        vertical-align: middle;\n",
       "    }\n",
       "\n",
       "    .dataframe tbody tr th {\n",
       "        vertical-align: top;\n",
       "    }\n",
       "\n",
       "    .dataframe thead th {\n",
       "        text-align: right;\n",
       "    }\n",
       "</style>\n",
       "<table border=\"1\" class=\"dataframe\">\n",
       "  <thead>\n",
       "    <tr style=\"text-align: right;\">\n",
       "      <th></th>\n",
       "      <th>No-Show</th>\n",
       "      <th>count</th>\n",
       "    </tr>\n",
       "  </thead>\n",
       "  <tbody>\n",
       "    <tr>\n",
       "      <th>0</th>\n",
       "      <td>No</td>\n",
       "      <td>88208</td>\n",
       "    </tr>\n",
       "    <tr>\n",
       "      <th>1</th>\n",
       "      <td>Yes</td>\n",
       "      <td>22319</td>\n",
       "    </tr>\n",
       "  </tbody>\n",
       "</table>\n",
       "</div>"
      ],
      "text/plain": [
       "  No-Show  count\n",
       "0      No  88208\n",
       "1     Yes  22319"
      ]
     },
     "execution_count": 34,
     "metadata": {},
     "output_type": "execute_result"
    }
   ],
   "source": [
    "# How many in each group?\n",
    "df.groupby('No-Show').count().toPandas()"
   ]
  },
  {
   "cell_type": "raw",
   "metadata": {},
   "source": [
    "\n"
   ]
  },
  {
   "cell_type": "code",
   "execution_count": 3,
   "metadata": {
    "scrolled": true
   },
   "outputs": [
    {
     "name": "stdout",
     "output_type": "stream",
     "text": [
      "+-------------------+-------------+------+--------------------+--------------------+---+-----------------+------------+------------+--------+----------+--------+------------+-------+\n",
      "|          PatientId|AppointmentID|Gender|        ScheduledDay|      AppointmentDay|Age|    Neighbourhood|Govt_welfare|Hypertension|Diabetes|Alcoholism|Handicap|SMS_received|No-show|\n",
      "+-------------------+-------------+------+--------------------+--------------------+---+-----------------+------------+------------+--------+----------+--------+------------+-------+\n",
      "| 2.9872499824296E13|      5642903|     F|2016-04-29 18:38:...|2016-04-29 00:00:...| 62|  JARDIM DA PENHA|           0|           1|       0|         0|       0|           0|     No|\n",
      "|5.58997776694438E14|      5642503|     M|2016-04-29 16:08:...|2016-04-29 00:00:...| 56|  JARDIM DA PENHA|           0|           0|       0|         0|       0|           0|     No|\n",
      "|  4.262962299951E12|      5642549|     F|2016-04-29 16:19:...|2016-04-29 00:00:...| 62|    MATA DA PRAIA|           0|           0|       0|         0|       0|           0|     No|\n",
      "|   8.67951213174E11|      5642828|     F|2016-04-29 17:29:...|2016-04-29 00:00:...|  8|PONTAL DE CAMBURI|           0|           0|       0|         0|       0|           0|     No|\n",
      "|  8.841186448183E12|      5642494|     F|2016-04-29 16:07:...|2016-04-29 00:00:...| 56|  JARDIM DA PENHA|           0|           1|       1|         0|       0|           0|     No|\n",
      "+-------------------+-------------+------+--------------------+--------------------+---+-----------------+------------+------------+--------+----------+--------+------------+-------+\n",
      "only showing top 5 rows\n",
      "\n"
     ]
    }
   ],
   "source": [
    "# rename columns typos\n",
    "from pyspark.sql.functions import *\n",
    "\n",
    "df_rename5 = df.select(\"PatientId\",\"AppointmentID\",\"Gender\",\"ScheduledDay\",\"AppointmentDay\",\"Age\",\"Neighbourhood\",\n",
    "                       col(\"Scholarship\").alias(\"Govt_welfare\"), col(\"Hipertension\").alias(\"Hypertension\"),\n",
    "                       \"Diabetes\",\"Alcoholism\",col(\"Handcap\").alias(\"Handicap\"),\"SMS_received\",\"No-show\")\n",
    "df_rename5.show(5)\n"
   ]
  },
  {
   "cell_type": "code",
   "execution_count": 4,
   "metadata": {},
   "outputs": [
    {
     "name": "stdout",
     "output_type": "stream",
     "text": [
      "root\n",
      " |-- PatientId: double (nullable = true)\n",
      " |-- AppointmentID: integer (nullable = true)\n",
      " |-- Gender: string (nullable = true)\n",
      " |-- ScheduledDay: timestamp (nullable = true)\n",
      " |-- AppointmentDay: timestamp (nullable = true)\n",
      " |-- Age: integer (nullable = true)\n",
      " |-- Neighbourhood: string (nullable = true)\n",
      " |-- Govt_welfare: integer (nullable = true)\n",
      " |-- Hypertension: integer (nullable = true)\n",
      " |-- Diabetes: integer (nullable = true)\n",
      " |-- Alcoholism: integer (nullable = true)\n",
      " |-- Handicap: integer (nullable = true)\n",
      " |-- SMS_received: integer (nullable = true)\n",
      " |-- No-show: string (nullable = true)\n",
      "\n",
      "+-------------------+-------------+------+--------------------+--------------------+---+-----------------+------------+------------+--------+----------+--------+------------+-------+----------+\n",
      "|          PatientId|AppointmentID|Gender|        ScheduledDay|      AppointmentDay|Age|    Neighbourhood|Govt_welfare|Hypertension|Diabetes|Alcoholism|Handicap|SMS_received|No-show|DayBetween|\n",
      "+-------------------+-------------+------+--------------------+--------------------+---+-----------------+------------+------------+--------+----------+--------+------------+-------+----------+\n",
      "| 2.9872499824296E13|      5642903|     F|2016-04-29 18:38:...|2016-04-29 00:00:...| 62|  JARDIM DA PENHA|           0|           1|       0|         0|       0|           0|     No|    -67088|\n",
      "|5.58997776694438E14|      5642503|     M|2016-04-29 16:08:...|2016-04-29 00:00:...| 56|  JARDIM DA PENHA|           0|           0|       0|         0|       0|           0|     No|    -58107|\n",
      "|  4.262962299951E12|      5642549|     F|2016-04-29 16:19:...|2016-04-29 00:00:...| 62|    MATA DA PRAIA|           0|           0|       0|         0|       0|           0|     No|    -58744|\n",
      "|   8.67951213174E11|      5642828|     F|2016-04-29 17:29:...|2016-04-29 00:00:...|  8|PONTAL DE CAMBURI|           0|           0|       0|         0|       0|           0|     No|    -62971|\n",
      "|  8.841186448183E12|      5642494|     F|2016-04-29 16:07:...|2016-04-29 00:00:...| 56|  JARDIM DA PENHA|           0|           1|       1|         0|       0|           0|     No|    -58043|\n",
      "+-------------------+-------------+------+--------------------+--------------------+---+-----------------+------------+------------+--------+----------+--------+------------+-------+----------+\n",
      "only showing top 5 rows\n",
      "\n"
     ]
    }
   ],
   "source": [
    "df_rename5.printSchema()\n",
    "from pyspark.sql import functions as F\n",
    "timeFmt = \"yyyy-MM-dd'T'HH:mm:ss.SSS\"\n",
    "timeDiff = (F.unix_timestamp('AppointmentDay', format=timeFmt)\n",
    "            - F.unix_timestamp('ScheduledDay', format=timeFmt))\n",
    "df_rename5 = df_rename5.withColumn(\"DayBetween\", timeDiff)\n",
    "df_rename5.show(5)"
   ]
  },
  {
   "cell_type": "code",
   "execution_count": null,
   "metadata": {},
   "outputs": [],
   "source": []
  },
  {
   "cell_type": "code",
   "execution_count": 5,
   "metadata": {
    "scrolled": true
   },
   "outputs": [
    {
     "name": "stdout",
     "output_type": "stream",
     "text": [
      "+-------------------+-------------+------+--------------------+--------------------+---+-----------------+------------+------------+--------+----------+--------+------------+-------+----------+-----------+\n",
      "|          PatientId|AppointmentID|Gender|        ScheduledDay|      AppointmentDay|Age|    Neighbourhood|Govt_welfare|Hypertension|Diabetes|Alcoholism|Handicap|SMS_received|No-show|DayBetween|NoShowIndex|\n",
      "+-------------------+-------------+------+--------------------+--------------------+---+-----------------+------------+------------+--------+----------+--------+------------+-------+----------+-----------+\n",
      "| 2.9872499824296E13|      5642903|     F|2016-04-29 18:38:...|2016-04-29 00:00:...| 62|  JARDIM DA PENHA|           0|           1|       0|         0|       0|           0|     No|    -67088|        0.0|\n",
      "|5.58997776694438E14|      5642503|     M|2016-04-29 16:08:...|2016-04-29 00:00:...| 56|  JARDIM DA PENHA|           0|           0|       0|         0|       0|           0|     No|    -58107|        0.0|\n",
      "|  4.262962299951E12|      5642549|     F|2016-04-29 16:19:...|2016-04-29 00:00:...| 62|    MATA DA PRAIA|           0|           0|       0|         0|       0|           0|     No|    -58744|        0.0|\n",
      "|   8.67951213174E11|      5642828|     F|2016-04-29 17:29:...|2016-04-29 00:00:...|  8|PONTAL DE CAMBURI|           0|           0|       0|         0|       0|           0|     No|    -62971|        0.0|\n",
      "|  8.841186448183E12|      5642494|     F|2016-04-29 16:07:...|2016-04-29 00:00:...| 56|  JARDIM DA PENHA|           0|           1|       1|         0|       0|           0|     No|    -58043|        0.0|\n",
      "| 9.5985133231274E13|      5626772|     F|2016-04-27 08:36:...|2016-04-29 00:00:...| 76|        REPÚBLICA|           0|           1|       0|         0|       0|           0|     No|    141789|        0.0|\n",
      "|7.33688164476661E14|      5630279|     F|2016-04-27 15:05:...|2016-04-29 00:00:...| 23|       GOIABEIRAS|           0|           0|       0|         0|       0|           0|    Yes|    118488|        1.0|\n",
      "|  3.449833394123E12|      5630575|     F|2016-04-27 15:39:...|2016-04-29 00:00:...| 39|       GOIABEIRAS|           0|           0|       0|         0|       0|           0|    Yes|    116402|        1.0|\n",
      "| 5.6394729949972E13|      5638447|     F|2016-04-29 08:02:...|2016-04-29 00:00:...| 21|       ANDORINHAS|           0|           0|       0|         0|       0|           0|     No|    -28936|        0.0|\n",
      "| 7.8124564369297E13|      5629123|     F|2016-04-27 12:48:...|2016-04-29 00:00:...| 19|        CONQUISTA|           0|           0|       0|         0|       0|           0|     No|    126695|        0.0|\n",
      "|7.34536231958495E14|      5630213|     F|2016-04-27 14:58:...|2016-04-29 00:00:...| 30|   NOVA PALESTINA|           0|           0|       0|         0|       0|           0|     No|    118909|        0.0|\n",
      "|  7.542951368435E12|      5620163|     M|2016-04-26 08:44:...|2016-04-29 00:00:...| 29|   NOVA PALESTINA|           0|           0|       0|         0|       0|           1|    Yes|    227748|        1.0|\n",
      "|5.66654781423437E14|      5634718|     F|2016-04-28 11:33:...|2016-04-29 00:00:...| 22|   NOVA PALESTINA|           1|           0|       0|         0|       0|           0|     No|     44769|        0.0|\n",
      "|9.11394617215919E14|      5636249|     M|2016-04-28 14:52:...|2016-04-29 00:00:...| 28|   NOVA PALESTINA|           0|           0|       0|         0|       0|           0|     No|     32873|        0.0|\n",
      "| 9.9884723334928E13|      5633951|     F|2016-04-28 10:06:...|2016-04-29 00:00:...| 54|   NOVA PALESTINA|           0|           0|       0|         0|       0|           0|     No|     50016|        0.0|\n",
      "|    9.9948393975E10|      5620206|     F|2016-04-26 08:47:...|2016-04-29 00:00:...| 15|   NOVA PALESTINA|           0|           0|       0|         0|       0|           1|     No|    227553|        0.0|\n",
      "| 8.4574392942817E13|      5633121|     M|2016-04-28 08:51:...|2016-04-29 00:00:...| 50|   NOVA PALESTINA|           0|           0|       0|         0|       0|           0|     No|     54493|        0.0|\n",
      "| 1.4794966191172E13|      5633460|     F|2016-04-28 09:28:...|2016-04-29 00:00:...| 40|        CONQUISTA|           1|           0|       0|         0|       0|           0|    Yes|     52263|        1.0|\n",
      "| 1.7135378245248E13|      5621836|     F|2016-04-26 10:54:...|2016-04-29 00:00:...| 30|   NOVA PALESTINA|           1|           0|       0|         0|       0|           1|     No|    219942|        0.0|\n",
      "|  7.223289184215E12|      5640433|     F|2016-04-29 10:43:...|2016-04-29 00:00:...| 46|         DA PENHA|           0|           0|       0|         0|       0|           0|     No|    -38594|        0.0|\n",
      "+-------------------+-------------+------+--------------------+--------------------+---+-----------------+------------+------------+--------+----------+--------+------------+-------+----------+-----------+\n",
      "only showing top 20 rows\n",
      "\n"
     ]
    }
   ],
   "source": [
    "from pyspark.ml.feature import StringIndexer\n",
    "\n",
    "indexer = StringIndexer(inputCol=\"No-show\", outputCol=\"NoShowIndex\")\n",
    "indexed = indexer.fit(df_rename5).transform(df_rename5)\n",
    "indexed.show()"
   ]
  },
  {
   "cell_type": "code",
   "execution_count": 25,
   "metadata": {
    "scrolled": true
   },
   "outputs": [
    {
     "name": "stdout",
     "output_type": "stream",
     "text": [
      "+------------------+-------------+------+--------------------+--------------------+---+---------------+------------+------------+--------+----------+--------+------------+-------+----------+-----------+\n",
      "|         PatientId|AppointmentID|Gender|        ScheduledDay|      AppointmentDay|Age|  Neighbourhood|Govt_welfare|Hypertension|Diabetes|Alcoholism|Handicap|SMS_received|No-show|DayBetween|NoShowIndex|\n",
      "+------------------+-------------+------+--------------------+--------------------+---+---------------+------------+------------+--------+----------+--------+------------+-------+----------+-----------+\n",
      "|2.9872499824296E13|      5642903|     F|2016-04-29 18:38:...|2016-04-29 00:00:...| 62|JARDIM DA PENHA|           0|           1|       0|         0|       0|           0|     No|    -67088|        0.0|\n",
      "+------------------+-------------+------+--------------------+--------------------+---+---------------+------------+------------+--------+----------+--------+------------+-------+----------+-----------+\n",
      "only showing top 1 row\n",
      "\n"
     ]
    }
   ],
   "source": [
    "indexed.show(1)"
   ]
  },
  {
   "cell_type": "code",
   "execution_count": 6,
   "metadata": {
    "scrolled": true
   },
   "outputs": [
    {
     "name": "stdout",
     "output_type": "stream",
     "text": [
      "+---+------------+------------+--------+----------+--------+------------+----------+-----------+\n",
      "|Age|Govt_welfare|Hypertension|Diabetes|Alcoholism|Handicap|SMS_received|DayBetween|NoShowIndex|\n",
      "+---+------------+------------+--------+----------+--------+------------+----------+-----------+\n",
      "| 62|           0|           1|       0|         0|       0|           0|    -67088|        0.0|\n",
      "+---+------------+------------+--------+----------+--------+------------+----------+-----------+\n",
      "only showing top 1 row\n",
      "\n"
     ]
    }
   ],
   "source": [
    "# Reduce data\n",
    "df_rename6 = indexed.select(\"Age\",\"Govt_welfare\",\"Hypertension\",\"Diabetes\",\"Alcoholism\",\n",
    "                               \"Handicap\",\"SMS_received\",\"DayBetween\",\"NoShowIndex\")\n",
    "df_rename6.show(1)"
   ]
  },
  {
   "cell_type": "code",
   "execution_count": 40,
   "metadata": {},
   "outputs": [
    {
     "data": {
      "text/html": [
       "<div>\n",
       "<style scoped>\n",
       "    .dataframe tbody tr th:only-of-type {\n",
       "        vertical-align: middle;\n",
       "    }\n",
       "\n",
       "    .dataframe tbody tr th {\n",
       "        vertical-align: top;\n",
       "    }\n",
       "\n",
       "    .dataframe thead th {\n",
       "        text-align: right;\n",
       "    }\n",
       "</style>\n",
       "<table border=\"1\" class=\"dataframe\">\n",
       "  <thead>\n",
       "    <tr style=\"text-align: right;\">\n",
       "      <th></th>\n",
       "      <th>0</th>\n",
       "      <th>1</th>\n",
       "      <th>2</th>\n",
       "      <th>3</th>\n",
       "      <th>4</th>\n",
       "    </tr>\n",
       "  </thead>\n",
       "  <tbody>\n",
       "    <tr>\n",
       "      <th>summary</th>\n",
       "      <td>count</td>\n",
       "      <td>mean</td>\n",
       "      <td>stddev</td>\n",
       "      <td>min</td>\n",
       "      <td>max</td>\n",
       "    </tr>\n",
       "    <tr>\n",
       "      <th>Age</th>\n",
       "      <td>110527</td>\n",
       "      <td>37.08887421173107</td>\n",
       "      <td>23.110204963682676</td>\n",
       "      <td>-1</td>\n",
       "      <td>115</td>\n",
       "    </tr>\n",
       "    <tr>\n",
       "      <th>Govt_welfare</th>\n",
       "      <td>110527</td>\n",
       "      <td>0.09826558216544373</td>\n",
       "      <td>0.2976747541093073</td>\n",
       "      <td>0</td>\n",
       "      <td>1</td>\n",
       "    </tr>\n",
       "    <tr>\n",
       "      <th>Hypertension</th>\n",
       "      <td>110527</td>\n",
       "      <td>0.1972459218109602</td>\n",
       "      <td>0.39792134994708606</td>\n",
       "      <td>0</td>\n",
       "      <td>1</td>\n",
       "    </tr>\n",
       "    <tr>\n",
       "      <th>Diabetes</th>\n",
       "      <td>110527</td>\n",
       "      <td>0.07186479321794674</td>\n",
       "      <td>0.25826507350746536</td>\n",
       "      <td>0</td>\n",
       "      <td>1</td>\n",
       "    </tr>\n",
       "    <tr>\n",
       "      <th>Alcoholism</th>\n",
       "      <td>110527</td>\n",
       "      <td>0.030399811810688793</td>\n",
       "      <td>0.1716855554142438</td>\n",
       "      <td>0</td>\n",
       "      <td>1</td>\n",
       "    </tr>\n",
       "    <tr>\n",
       "      <th>Handicap</th>\n",
       "      <td>110527</td>\n",
       "      <td>0.022247957512643968</td>\n",
       "      <td>0.1615427258142786</td>\n",
       "      <td>0</td>\n",
       "      <td>4</td>\n",
       "    </tr>\n",
       "    <tr>\n",
       "      <th>SMS_received</th>\n",
       "      <td>110527</td>\n",
       "      <td>0.32102563174608917</td>\n",
       "      <td>0.46687273170186905</td>\n",
       "      <td>0</td>\n",
       "      <td>1</td>\n",
       "    </tr>\n",
       "    <tr>\n",
       "      <th>DayBetween</th>\n",
       "      <td>110527</td>\n",
       "      <td>839314.1619604259</td>\n",
       "      <td>1317087.8915041287</td>\n",
       "      <td>-568160</td>\n",
       "      <td>15427141</td>\n",
       "    </tr>\n",
       "    <tr>\n",
       "      <th>NoShowIndex</th>\n",
       "      <td>110527</td>\n",
       "      <td>0.20193255946510807</td>\n",
       "      <td>0.40144396741443283</td>\n",
       "      <td>0.0</td>\n",
       "      <td>1.0</td>\n",
       "    </tr>\n",
       "  </tbody>\n",
       "</table>\n",
       "</div>"
      ],
      "text/plain": [
       "                   0                     1                    2        3  \\\n",
       "summary        count                  mean               stddev      min   \n",
       "Age           110527     37.08887421173107   23.110204963682676       -1   \n",
       "Govt_welfare  110527   0.09826558216544373   0.2976747541093073        0   \n",
       "Hypertension  110527    0.1972459218109602  0.39792134994708606        0   \n",
       "Diabetes      110527   0.07186479321794674  0.25826507350746536        0   \n",
       "Alcoholism    110527  0.030399811810688793   0.1716855554142438        0   \n",
       "Handicap      110527  0.022247957512643968   0.1615427258142786        0   \n",
       "SMS_received  110527   0.32102563174608917  0.46687273170186905        0   \n",
       "DayBetween    110527     839314.1619604259   1317087.8915041287  -568160   \n",
       "NoShowIndex   110527   0.20193255946510807  0.40144396741443283      0.0   \n",
       "\n",
       "                     4  \n",
       "summary            max  \n",
       "Age                115  \n",
       "Govt_welfare         1  \n",
       "Hypertension         1  \n",
       "Diabetes             1  \n",
       "Alcoholism           1  \n",
       "Handicap             4  \n",
       "SMS_received         1  \n",
       "DayBetween    15427141  \n",
       "NoShowIndex        1.0  "
      ]
     },
     "execution_count": 40,
     "metadata": {},
     "output_type": "execute_result"
    }
   ],
   "source": [
    "# Using a Python package to neatly describe the data.\n",
    "import pandas as pd\n",
    "df_rename6.describe().toPandas().transpose()"
   ]
  },
  {
   "cell_type": "code",
   "execution_count": 41,
   "metadata": {
    "scrolled": true
   },
   "outputs": [
    {
     "name": "stdout",
     "output_type": "stream",
     "text": [
      "root\n",
      " |-- Age: integer (nullable = true)\n",
      " |-- Govt_welfare: integer (nullable = true)\n",
      " |-- Hypertension: integer (nullable = true)\n",
      " |-- Diabetes: integer (nullable = true)\n",
      " |-- Alcoholism: integer (nullable = true)\n",
      " |-- Handicap: integer (nullable = true)\n",
      " |-- SMS_received: integer (nullable = true)\n",
      " |-- DayBetween: long (nullable = true)\n",
      " |-- NoShowIndex: double (nullable = true)\n",
      " |-- features: vector (nullable = true)\n",
      "\n"
     ]
    },
    {
     "data": {
      "text/plain": [
       "[Row(Age=62, Govt_welfare=0, Hypertension=1, Diabetes=0, Alcoholism=0, Handicap=0, SMS_received=0, DayBetween=-67088, NoShowIndex=0.0, features=SparseVector(8, {0: 62.0, 2: 1.0, 7: -67088.0}))]"
      ]
     },
     "execution_count": 41,
     "metadata": {},
     "output_type": "execute_result"
    }
   ],
   "source": [
    "# Import VectorAssembler and Vectors\n",
    "from pyspark.ml.feature import VectorAssembler\n",
    "\n",
    "# The input columns are the feature column names, and the output column is what you'd like the new column to be named. \n",
    "vector_assembler = VectorAssembler(inputCols = ['Age', 'Govt_welfare', 'Hypertension', 'Diabetes', 'Alcoholism', \n",
    "                                                'Handicap', 'SMS_received', 'DayBetween'], outputCol = 'features')\n",
    "\n",
    "# Now that we've created the assembler variable, let's actually transform the data.\n",
    "vector_output = vector_assembler.transform(df_rename6)\n",
    "\n",
    "# Using print schema, you see that the features output column has been added. \n",
    "vector_output.printSchema()\n",
    "\n",
    "# You can see that the features column is a DenseVector that combines the various features as expected.\n",
    "vector_output.head(1)"
   ]
  },
  {
   "cell_type": "code",
   "execution_count": 42,
   "metadata": {},
   "outputs": [
    {
     "name": "stdout",
     "output_type": "stream",
     "text": [
      "[Row(features=SparseVector(8, {0: 62.0, 2: 1.0, 7: -67088.0}), NoShowIndex=0.0)]\n",
      "+--------------------+-----------+\n",
      "|            features|NoShowIndex|\n",
      "+--------------------+-----------+\n",
      "|(8,[0,2,7],[62.0,...|        0.0|\n",
      "|(8,[0,7],[56.0,-5...|        0.0|\n",
      "|(8,[0,7],[62.0,-5...|        0.0|\n",
      "+--------------------+-----------+\n",
      "only showing top 3 rows\n",
      "\n"
     ]
    }
   ],
   "source": [
    "# Because the features have been combined into one vector, we no longer need them. Below we select the features and label.\n",
    "vector_output = vector_output.select(['features', 'NoShowIndex'])\n",
    "\n",
    "# You can see that the dataframe now only contains two columns. \n",
    "print(vector_output.head(1))\n",
    "vector_output.show(3)"
   ]
  },
  {
   "cell_type": "code",
   "execution_count": 43,
   "metadata": {},
   "outputs": [
    {
     "name": "stdout",
     "output_type": "stream",
     "text": [
      "+-------+-------------------+\n",
      "|summary|        NoShowIndex|\n",
      "+-------+-------------------+\n",
      "|  count|              77346|\n",
      "|   mean|0.20136787939906395|\n",
      "| stddev|0.40102485681798905|\n",
      "|    min|                0.0|\n",
      "|    max|                1.0|\n",
      "+-------+-------------------+\n",
      "\n",
      "+-------+-------------------+\n",
      "|summary|        NoShowIndex|\n",
      "+-------+-------------------+\n",
      "|  count|              33181|\n",
      "|   mean|0.20324884723184955|\n",
      "| stddev|0.40242220856234306|\n",
      "|    min|                0.0|\n",
      "|    max|                1.0|\n",
      "+-------+-------------------+\n",
      "\n"
     ]
    }
   ],
   "source": [
    "# Let's do a randomised 70/30 split.\n",
    "train_data,test_data = vector_output.randomSplit([0.7,0.3])\n",
    "\n",
    "# Let's see our training data.\n",
    "train_data.describe().show()\n",
    "\n",
    "# And our testing data.\n",
    "test_data.describe().show()"
   ]
  },
  {
   "cell_type": "code",
   "execution_count": 44,
   "metadata": {},
   "outputs": [],
   "source": [
    "# Build Logistic Regression\n",
    "from pyspark.ml.classification import LogisticRegression\n",
    "\n",
    "# Instantiate the model.\n",
    "lr_model = LogisticRegression(featuresCol='features',labelCol='NoShowIndex')\n",
    "\n",
    "# Fit the model.\n",
    "lr_model = lr_model.fit(train_data)\n",
    "\n",
    "# And evaluate the model using the test data.\n",
    "results = lr_model.transform(test_data)"
   ]
  },
  {
   "cell_type": "code",
   "execution_count": 45,
   "metadata": {},
   "outputs": [
    {
     "data": {
      "image/png": "[encoded data removed]",
      "text/plain": [
       "<Figure size 432x288 with 1 Axes>"
      ]
     },
     "metadata": {},
     "output_type": "display_data"
    }
   ],
   "source": [
    "# Model Evaluation \n",
    "import matplotlib.pyplot as plt\n",
    "import numpy as np\n",
    "\n",
    "# Visualising the coefficients. Sort from lowest to highest.\n",
    "beta = np.sort(lr_model.coefficients)\n",
    "\n",
    "# Plot the data.\n",
    "plt.plot(beta)\n",
    "\n",
    "# Add a label to the data.\n",
    "plt.ylabel('Beta Coefficients')\n",
    "\n",
    "# Show the graph. \n",
    "plt.show()"
   ]
  },
  {
   "cell_type": "code",
   "execution_count": 46,
   "metadata": {},
   "outputs": [
    {
     "data": {
      "image/png": "[encoded data removed]",
      "text/plain": [
       "<Figure size 432x288 with 1 Axes>"
      ]
     },
     "metadata": {},
     "output_type": "display_data"
    },
    {
     "name": "stdout",
     "output_type": "stream",
     "text": [
      "Area Under the Curve: 0.659529203980331\n"
     ]
    }
   ],
   "source": [
    "# Let's get a summary of the data.\n",
    "training_summary = lr_model.summary\n",
    "\n",
    "# Convert the DataFrame to a Pandas DataFrame.\n",
    "ROC = training_summary.roc.toPandas()\n",
    "\n",
    "# Plot the true positive and false positive rates.\n",
    "plt.plot(ROC['FPR'],ROC['TPR'])\n",
    "\n",
    "# Define the labels.\n",
    "plt.ylabel('True Positive Rate')\n",
    "plt.xlabel('False Positive Rate')\n",
    "plt.title('ROC Curve')\n",
    "plt.show()\n",
    "\n",
    "# Print the AUC statistic. \n",
    "print('Area Under the Curve: ' + str(training_summary.areaUnderROC))"
   ]
  },
  {
   "cell_type": "code",
   "execution_count": 47,
   "metadata": {
    "scrolled": true
   },
   "outputs": [
    {
     "data": {
      "image/png": "[encoded data removed]",
      "text/plain": [
       "<Figure size 432x288 with 1 Axes>"
      ]
     },
     "metadata": {},
     "output_type": "display_data"
    }
   ],
   "source": [
    "# Convert DataFrame to Pandas DataFrame.\n",
    "pr = training_summary.pr.toPandas()\n",
    "\n",
    "# Plot model recall and precision.\n",
    "plt.plot(pr['recall'],pr['precision'])\n",
    "\n",
    "# Define the labels and show the graph. \n",
    "plt.ylabel('Precision')\n",
    "plt.xlabel('Recall')\n",
    "plt.show()"
   ]
  },
  {
   "cell_type": "code",
   "execution_count": 51,
   "metadata": {},
   "outputs": [
    {
     "name": "stdout",
     "output_type": "stream",
     "text": [
      "Coefficients: [-0.007797132517357763,0.2151137413552808,-0.02970683135166243,0.09908579370490855,0.20419838069751764,0.007718332035557372,0.33924946989774535,2.632045753952685e-07]\n",
      "Intercept: -1.5082640834533787\n",
      "\n"
     ]
    }
   ],
   "source": [
    "# Print the coefficients.\n",
    "print(\"Coefficients: \" + str(lr_model.coefficients))\n",
    "\n",
    "# Print the intercept.\n",
    "print(\"Intercept: \" + str(lr_model.intercept) + \"\\n\")\n",
    "\n",
    "# Summarise the model and print out some evaluation metrics.\n",
    "training_summary = lr_model.summary\n"
   ]
  },
  {
   "cell_type": "code",
   "execution_count": 7,
   "metadata": {},
   "outputs": [
    {
     "name": "stdout",
     "output_type": "stream",
     "text": [
      "+------------+------------+--------+----------+------------+----------+-----------+\n",
      "|Govt_welfare|Hypertension|Diabetes|Alcoholism|SMS_received|DayBetween|NoShowIndex|\n",
      "+------------+------------+--------+----------+------------+----------+-----------+\n",
      "|           0|           1|       0|         0|           0|    -67088|        0.0|\n",
      "+------------+------------+--------+----------+------------+----------+-----------+\n",
      "only showing top 1 row\n",
      "\n"
     ]
    }
   ],
   "source": [
    "#Iteration1\n",
    "# Reduce data\n",
    "df_rename7 = indexed.select(\"Govt_welfare\",\"Hypertension\",\"Diabetes\",\"Alcoholism\",\n",
    "                            \"SMS_received\",\"DayBetween\",\"NoShowIndex\")\n",
    "df_rename7.show(1)"
   ]
  },
  {
   "cell_type": "code",
   "execution_count": 8,
   "metadata": {},
   "outputs": [
    {
     "data": {
      "text/html": [
       "<div>\n",
       "<style scoped>\n",
       "    .dataframe tbody tr th:only-of-type {\n",
       "        vertical-align: middle;\n",
       "    }\n",
       "\n",
       "    .dataframe tbody tr th {\n",
       "        vertical-align: top;\n",
       "    }\n",
       "\n",
       "    .dataframe thead th {\n",
       "        text-align: right;\n",
       "    }\n",
       "</style>\n",
       "<table border=\"1\" class=\"dataframe\">\n",
       "  <thead>\n",
       "    <tr style=\"text-align: right;\">\n",
       "      <th></th>\n",
       "      <th>0</th>\n",
       "      <th>1</th>\n",
       "      <th>2</th>\n",
       "      <th>3</th>\n",
       "      <th>4</th>\n",
       "    </tr>\n",
       "  </thead>\n",
       "  <tbody>\n",
       "    <tr>\n",
       "      <th>summary</th>\n",
       "      <td>count</td>\n",
       "      <td>mean</td>\n",
       "      <td>stddev</td>\n",
       "      <td>min</td>\n",
       "      <td>max</td>\n",
       "    </tr>\n",
       "    <tr>\n",
       "      <th>Govt_welfare</th>\n",
       "      <td>110527</td>\n",
       "      <td>0.09826558216544373</td>\n",
       "      <td>0.2976747541093073</td>\n",
       "      <td>0</td>\n",
       "      <td>1</td>\n",
       "    </tr>\n",
       "    <tr>\n",
       "      <th>Hypertension</th>\n",
       "      <td>110527</td>\n",
       "      <td>0.1972459218109602</td>\n",
       "      <td>0.39792134994708606</td>\n",
       "      <td>0</td>\n",
       "      <td>1</td>\n",
       "    </tr>\n",
       "    <tr>\n",
       "      <th>Diabetes</th>\n",
       "      <td>110527</td>\n",
       "      <td>0.07186479321794674</td>\n",
       "      <td>0.25826507350746536</td>\n",
       "      <td>0</td>\n",
       "      <td>1</td>\n",
       "    </tr>\n",
       "    <tr>\n",
       "      <th>Alcoholism</th>\n",
       "      <td>110527</td>\n",
       "      <td>0.030399811810688793</td>\n",
       "      <td>0.1716855554142438</td>\n",
       "      <td>0</td>\n",
       "      <td>1</td>\n",
       "    </tr>\n",
       "    <tr>\n",
       "      <th>SMS_received</th>\n",
       "      <td>110527</td>\n",
       "      <td>0.32102563174608917</td>\n",
       "      <td>0.46687273170186905</td>\n",
       "      <td>0</td>\n",
       "      <td>1</td>\n",
       "    </tr>\n",
       "    <tr>\n",
       "      <th>DayBetween</th>\n",
       "      <td>110527</td>\n",
       "      <td>839314.1619604259</td>\n",
       "      <td>1317087.8915041287</td>\n",
       "      <td>-568160</td>\n",
       "      <td>15427141</td>\n",
       "    </tr>\n",
       "    <tr>\n",
       "      <th>NoShowIndex</th>\n",
       "      <td>110527</td>\n",
       "      <td>0.20193255946510807</td>\n",
       "      <td>0.40144396741443283</td>\n",
       "      <td>0.0</td>\n",
       "      <td>1.0</td>\n",
       "    </tr>\n",
       "  </tbody>\n",
       "</table>\n",
       "</div>"
      ],
      "text/plain": [
       "                   0                     1                    2        3  \\\n",
       "summary        count                  mean               stddev      min   \n",
       "Govt_welfare  110527   0.09826558216544373   0.2976747541093073        0   \n",
       "Hypertension  110527    0.1972459218109602  0.39792134994708606        0   \n",
       "Diabetes      110527   0.07186479321794674  0.25826507350746536        0   \n",
       "Alcoholism    110527  0.030399811810688793   0.1716855554142438        0   \n",
       "SMS_received  110527   0.32102563174608917  0.46687273170186905        0   \n",
       "DayBetween    110527     839314.1619604259   1317087.8915041287  -568160   \n",
       "NoShowIndex   110527   0.20193255946510807  0.40144396741443283      0.0   \n",
       "\n",
       "                     4  \n",
       "summary            max  \n",
       "Govt_welfare         1  \n",
       "Hypertension         1  \n",
       "Diabetes             1  \n",
       "Alcoholism           1  \n",
       "SMS_received         1  \n",
       "DayBetween    15427141  \n",
       "NoShowIndex        1.0  "
      ]
     },
     "execution_count": 8,
     "metadata": {},
     "output_type": "execute_result"
    }
   ],
   "source": [
    "#Iteration1\n",
    "# Using a Python package to neatly describe the data.\n",
    "import pandas as pd\n",
    "df_rename7.describe().toPandas().transpose()"
   ]
  },
  {
   "cell_type": "code",
   "execution_count": 9,
   "metadata": {},
   "outputs": [
    {
     "name": "stdout",
     "output_type": "stream",
     "text": [
      "root\n",
      " |-- Govt_welfare: integer (nullable = true)\n",
      " |-- Hypertension: integer (nullable = true)\n",
      " |-- Diabetes: integer (nullable = true)\n",
      " |-- Alcoholism: integer (nullable = true)\n",
      " |-- SMS_received: integer (nullable = true)\n",
      " |-- DayBetween: long (nullable = true)\n",
      " |-- NoShowIndex: double (nullable = true)\n",
      " |-- features: vector (nullable = true)\n",
      "\n"
     ]
    },
    {
     "data": {
      "text/plain": [
       "[Row(Govt_welfare=0, Hypertension=1, Diabetes=0, Alcoholism=0, SMS_received=0, DayBetween=-67088, NoShowIndex=0.0, features=SparseVector(6, {1: 1.0, 5: -67088.0}))]"
      ]
     },
     "execution_count": 9,
     "metadata": {},
     "output_type": "execute_result"
    }
   ],
   "source": [
    "#Iteration1\n",
    "# Import VectorAssembler and Vectors\n",
    "from pyspark.ml.feature import VectorAssembler\n",
    "\n",
    "# The input columns are the feature column names, and the output column is what you'd like the new column to be named. \n",
    "vector_assembler = VectorAssembler(inputCols = ['Govt_welfare', 'Hypertension', 'Diabetes', 'Alcoholism', \n",
    "                                                'SMS_received', 'DayBetween'], outputCol = 'features')\n",
    "\n",
    "# Now that we've created the assembler variable, let's actually transform the data.\n",
    "vector_output = vector_assembler.transform(df_rename7)\n",
    "\n",
    "# Using print schema, you see that the features output column has been added. \n",
    "vector_output.printSchema()\n",
    "\n",
    "# You can see that the features column is a DenseVector that combines the various features as expected.\n",
    "vector_output.head(1)"
   ]
  },
  {
   "cell_type": "code",
   "execution_count": 10,
   "metadata": {},
   "outputs": [
    {
     "name": "stdout",
     "output_type": "stream",
     "text": [
      "[Row(features=SparseVector(6, {1: 1.0, 5: -67088.0}), NoShowIndex=0.0)]\n",
      "+--------------------+-----------+\n",
      "|            features|NoShowIndex|\n",
      "+--------------------+-----------+\n",
      "|(6,[1,5],[1.0,-67...|        0.0|\n",
      "|  (6,[5],[-58107.0])|        0.0|\n",
      "|  (6,[5],[-58744.0])|        0.0|\n",
      "+--------------------+-----------+\n",
      "only showing top 3 rows\n",
      "\n"
     ]
    }
   ],
   "source": [
    "#Iteration1\n",
    "# Because the features have been combined into one vector, we no longer need them. Below we select the features and label.\n",
    "vector_output = vector_output.select(['features', 'NoShowIndex'])\n",
    "\n",
    "# You can see that the dataframe now only contains two columns. \n",
    "print(vector_output.head(1))\n",
    "vector_output.show(3)"
   ]
  },
  {
   "cell_type": "code",
   "execution_count": 11,
   "metadata": {},
   "outputs": [
    {
     "name": "stdout",
     "output_type": "stream",
     "text": [
      "+-------+-------------------+\n",
      "|summary|        NoShowIndex|\n",
      "+-------+-------------------+\n",
      "|  count|              77284|\n",
      "|   mean|0.20108948812173283|\n",
      "| stddev| 0.4008173956364023|\n",
      "|    min|                0.0|\n",
      "|    max|                1.0|\n",
      "+-------+-------------------+\n",
      "\n",
      "+-------+-------------------+\n",
      "|summary|        NoShowIndex|\n",
      "+-------+-------------------+\n",
      "|  count|              33243|\n",
      "|   mean| 0.2038925488072677|\n",
      "| stddev|0.40289609124296355|\n",
      "|    min|                0.0|\n",
      "|    max|                1.0|\n",
      "+-------+-------------------+\n",
      "\n"
     ]
    }
   ],
   "source": [
    "#Iteration1\n",
    "# Let's do a randomised 70/30 split.\n",
    "train_data,test_data = vector_output.randomSplit([0.7,0.3])\n",
    "\n",
    "# Let's see our training data.\n",
    "train_data.describe().show()\n",
    "\n",
    "# And our testing data.\n",
    "test_data.describe().show()"
   ]
  },
  {
   "cell_type": "code",
   "execution_count": 12,
   "metadata": {},
   "outputs": [],
   "source": [
    "#Iteration1\n",
    "# Build Logistic Regression\n",
    "from pyspark.ml.classification import LogisticRegression\n",
    "\n",
    "# Instantiate the model.\n",
    "lr_model = LogisticRegression(featuresCol='features',labelCol='NoShowIndex')\n",
    "\n",
    "# Fit the model.\n",
    "lr_model = lr_model.fit(train_data)\n",
    "\n",
    "# And evaluate the model using the test data.\n",
    "results = lr_model.transform(test_data)"
   ]
  },
  {
   "cell_type": "code",
   "execution_count": 14,
   "metadata": {},
   "outputs": [
    {
     "data": {
      "image/png": "[encoded data removed]",
      "text/plain": [
       "<Figure size 432x288 with 1 Axes>"
      ]
     },
     "metadata": {},
     "output_type": "display_data"
    }
   ],
   "source": [
    "#Iteration1\n",
    "# Model Evaluation \n",
    "import matplotlib.pyplot as plt\n",
    "import numpy as np\n",
    "\n",
    "# Visualising the coefficients. Sort from lowest to highest.\n",
    "beta = np.sort(lr_model.coefficients)\n",
    "\n",
    "# Plot the data.\n",
    "plt.plot(beta)\n",
    "\n",
    "# Add a label to the data.\n",
    "plt.ylabel('Beta Coefficients')\n",
    "\n",
    "# Show the graph. \n",
    "plt.show()"
   ]
  },
  {
   "cell_type": "code",
   "execution_count": 15,
   "metadata": {},
   "outputs": [
    {
     "data": {
      "image/png": "[encoded data removed]",
      "text/plain": [
       "<Figure size 432x288 with 1 Axes>"
      ]
     },
     "metadata": {},
     "output_type": "display_data"
    },
    {
     "name": "stdout",
     "output_type": "stream",
     "text": [
      "Area Under the Curve: 0.6726440666728818\n"
     ]
    }
   ],
   "source": [
    "#Iteration1\n",
    "# Let's get a summary of the data.\n",
    "training_summary = lr_model.summary\n",
    "\n",
    "# Convert the DataFrame to a Pandas DataFrame.\n",
    "ROC = training_summary.roc.toPandas()\n",
    "\n",
    "# Plot the true positive and false positive rates.\n",
    "plt.plot(ROC['FPR'],ROC['TPR'])\n",
    "\n",
    "# Define the labels.\n",
    "plt.ylabel('True Positive Rate')\n",
    "plt.xlabel('False Positive Rate')\n",
    "plt.title('ROC Curve')\n",
    "plt.show()\n",
    "\n",
    "# Print the AUC statistic. \n",
    "print('Area Under the Curve: ' + str(training_summary.areaUnderROC))"
   ]
  },
  {
   "cell_type": "code",
   "execution_count": 16,
   "metadata": {},
   "outputs": [
    {
     "data": {
      "image/png": "[encoded data removed]",
      "text/plain": [
       "<Figure size 432x288 with 1 Axes>"
      ]
     },
     "metadata": {},
     "output_type": "display_data"
    }
   ],
   "source": [
    "# Iteration1\n",
    "# Convert DataFrame to Pandas DataFrame.\n",
    "pr = training_summary.pr.toPandas()\n",
    "\n",
    "# Plot model recall and precision.\n",
    "plt.plot(pr['recall'],pr['precision'])\n",
    "\n",
    "# Define the labels and show the graph. \n",
    "plt.ylabel('Precision')\n",
    "plt.xlabel('Recall')\n",
    "plt.show()"
   ]
  },
  {
   "cell_type": "code",
   "execution_count": 17,
   "metadata": {},
   "outputs": [
    {
     "name": "stdout",
     "output_type": "stream",
     "text": [
      "Coefficients: [0.2753561341047152,-0.21196257368871355,0.051870710336337784,0.1445231660778148,0.35660898917619366,2.62227012506319e-07]\n",
      "Intercept: -1.7624121813888611\n",
      "\n"
     ]
    }
   ],
   "source": [
    "# Iteration1\n",
    "# Print the coefficients.\n",
    "print(\"Coefficients: \" + str(lr_model.coefficients))\n",
    "\n",
    "# Print the intercept.\n",
    "print(\"Intercept: \" + str(lr_model.intercept) + \"\\n\")\n",
    "\n",
    "# Summarise the model and print out some evaluation metrics.\n",
    "training_summary = lr_model.summary\n"
   ]
  },
  {
   "cell_type": "code",
   "execution_count": null,
   "metadata": {},
   "outputs": [],
   "source": []
  }
 ],
 "metadata": {
  "kernelspec": {
   "display_name": "Python 3",
   "language": "python",
   "name": "python3"
  },
  "language_info": {
   "codemirror_mode": {
    "name": "ipython",
    "version": 3
   },
   "file_extension": ".py",
   "mimetype": "text/x-python",
   "name": "python",
   "nbconvert_exporter": "python",
   "pygments_lexer": "ipython3",
   "version": "3.5.2"
  }
 },
 "nbformat": 4,
 "nbformat_minor": 2
}
